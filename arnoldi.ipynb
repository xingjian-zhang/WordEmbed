{
 "metadata": {
  "language_info": {
   "codemirror_mode": {
    "name": "ipython",
    "version": 3
   },
   "file_extension": ".py",
   "mimetype": "text/x-python",
   "name": "python",
   "nbconvert_exporter": "python",
   "pygments_lexer": "ipython3",
   "version": "3.7.9-final"
  },
  "orig_nbformat": 2,
  "kernelspec": {
   "name": "python3",
   "display_name": "Python 3.7.9 64-bit ('torch': conda)",
   "metadata": {
    "interpreter": {
     "hash": "ab966abc8b66666b43366386e47c06b9181f1348fea14daaec66e20b1dfc719e"
    }
   }
  }
 },
 "nbformat": 4,
 "nbformat_minor": 2,
 "cells": [
  {
   "cell_type": "code",
   "execution_count": 5,
   "metadata": {},
   "outputs": [],
   "source": [
    "import numpy as np\n",
    "import json"
   ]
  },
  {
   "cell_type": "code",
   "execution_count": 3,
   "metadata": {},
   "outputs": [],
   "source": [
    "Q = np.load(\"embed/brown_100_-1/Q.npy\")"
   ]
  },
  {
   "cell_type": "code",
   "execution_count": 4,
   "metadata": {},
   "outputs": [
    {
     "output_type": "execute_result",
     "data": {
      "text/plain": [
       "(8418, 101)"
      ]
     },
     "metadata": {},
     "execution_count": 4
    }
   ],
   "source": [
    "Q.shape"
   ]
  },
  {
   "cell_type": "code",
   "execution_count": 9,
   "metadata": {},
   "outputs": [],
   "source": [
    "vocab = json.load(open(\"embed/brown_100_-1/vocab.json\", 'r'))"
   ]
  },
  {
   "cell_type": "code",
   "execution_count": 10,
   "metadata": {},
   "outputs": [],
   "source": [
    "inv_vocab = {v:k for k,v in vocab.items()}"
   ]
  },
  {
   "cell_type": "code",
   "execution_count": 32,
   "metadata": {},
   "outputs": [],
   "source": [
    "def word_similarity(Q, w:str, n:int=10):\n",
    "    try:\n",
    "        idx = vocab[w]\n",
    "    except KeyError:\n",
    "        print(\"Not found\", w)\n",
    "        return {}\n",
    "    inner = Q @ Q[idx]\n",
    "    n += 1\n",
    "    closest = np.argpartition(inner, -n)[-n:]\n",
    "    closest = closest[np.argsort(inner[closest])][:-1]\n",
    "    return {inv_vocab[cidx]:inner[cidx] for cidx in np.flip(closest)}"
   ]
  },
  {
   "cell_type": "code",
   "execution_count": 34,
   "metadata": {},
   "outputs": [
    {
     "output_type": "execute_result",
     "data": {
      "text/plain": [
       "{'titled': 0.79633653,\n",
       " 'cylindrical': 0.7635322,\n",
       " 'enters': 0.7552502,\n",
       " 'athlete': 0.75411177,\n",
       " 'eleanor': 0.7513427,\n",
       " 'tackle': 0.7495686,\n",
       " 'miscellaneous': 0.7469099,\n",
       " 'capitalism': 0.7435185,\n",
       " 'hints': 0.7434266,\n",
       " 'danced': 0.74307805}"
      ]
     },
     "metadata": {},
     "execution_count": 34
    }
   ],
   "source": [
    "word_similarity(Q_, \"computer\")"
   ]
  },
  {
   "cell_type": "code",
   "execution_count": 22,
   "metadata": {},
   "outputs": [],
   "source": [
    "from numpy.linalg import norm\n",
    "from sklearn.preprocessing import normalize\n",
    "\n",
    "Q_ = normalize(Q, axis=1, norm='l2')"
   ]
  },
  {
   "cell_type": "code",
   "execution_count": 23,
   "metadata": {},
   "outputs": [
    {
     "output_type": "execute_result",
     "data": {
      "text/plain": [
       "1.0"
      ]
     },
     "metadata": {},
     "execution_count": 23
    }
   ],
   "source": [
    "norm(Q_[0])"
   ]
  },
  {
   "cell_type": "code",
   "execution_count": null,
   "metadata": {},
   "outputs": [],
   "source": []
  }
 ]
}