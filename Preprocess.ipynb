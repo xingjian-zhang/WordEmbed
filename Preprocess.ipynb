{
 "cells": [
  {
   "cell_type": "code",
   "execution_count": 1,
   "id": "certified-maple",
   "metadata": {
    "ExecuteTime": {
     "end_time": "2021-03-22T06:28:12.920339Z",
     "start_time": "2021-03-22T06:28:12.272900Z"
    }
   },
   "outputs": [],
   "source": [
    "import os\n",
    "import re\n",
    "from nltk import sent_tokenize\n",
    "from nltk.tokenize import RegexpTokenizer\n",
    "from rich.progress import track\n",
    "data_path = \"/home/data-master/evancw/flatten_gigaword/tmp/\" # data file in Orion"
   ]
  },
  {
   "cell_type": "code",
   "execution_count": 2,
   "id": "difficult-activation",
   "metadata": {
    "ExecuteTime": {
     "end_time": "2021-03-22T06:28:12.925564Z",
     "start_time": "2021-03-22T06:28:12.921546Z"
    }
   },
   "outputs": [
    {
     "name": "stdout",
     "output_type": "stream",
     "text": [
      "# Data files:\t 197\n"
     ]
    }
   ],
   "source": [
    "# Read file paths\n",
    "\n",
    "data_files = os.listdir(data_path)\n",
    "nyt_file_paths = [\n",
    "    os.path.join(data_path, p) for p in data_files if p[:3] == \"nyt\"\n",
    "]\n",
    "print(\"# Data files:\\t\", len(nyt_file_paths))"
   ]
  },
  {
   "cell_type": "code",
   "execution_count": 4,
   "id": "square-subcommittee",
   "metadata": {
    "ExecuteTime": {
     "end_time": "2021-03-22T06:54:30.848417Z",
     "start_time": "2021-03-22T06:36:39.617843Z"
    }
   },
   "outputs": [
    {
     "data": {
      "application/vnd.jupyter.widget-view+json": {
       "model_id": "89ed6796d16641e9bca04bdf66ee598b",
       "version_major": 2,
       "version_minor": 0
      },
      "text/plain": [
       "Output()"
      ]
     },
     "metadata": {},
     "output_type": "display_data"
    }
   ],
   "source": [
    "# Preprocess the .flat data\n",
    "# Generate the corpus @ ./tmp/line_corpus.txt\n",
    "\n",
    "def preprocess(file_path, split=True):\n",
    "    with open(file_path, 'r') as text_file:\n",
    "        data = text_file.read().split('\\n')\n",
    "        sentences = []\n",
    "        for sent in data:\n",
    "            sentences.append(preprocess_sent(sent, split))\n",
    "    return sentences\n",
    "\n",
    "\n",
    "def preprocess_sent(sentence, split=True):\n",
    "    sentence = sentence.lower()\n",
    "    sentence = re.sub(r'[^\\w\\s]', '', sentence)\n",
    "    tokenizer = RegexpTokenizer(r'(?u)\\b\\w\\w+\\b')\n",
    "    tokens = tokenizer.tokenize(sentence)\n",
    "    if split:\n",
    "        return list(tokens)\n",
    "    else:\n",
    "        return \" \".join(tokens)\n",
    "\n",
    "if not os.path.exists(\"./tmp/\"):\n",
    "    os.makedirs(\"./tmp/\", exist_ok=True)\n",
    "with open(\"./tmp/line_corpus.txt\",'w') as lc:\n",
    "    for nyt_file_path in track(nyt_file_paths):\n",
    "        file_corpus = preprocess(nyt_file_path, split=False)\n",
    "        for sent in file_corpus:\n",
    "            lc.write(sent+'\\n')"
   ]
  },
  {
   "cell_type": "code",
   "execution_count": null,
   "id": "metallic-collector",
   "metadata": {},
   "outputs": [],
   "source": []
  }
 ],
 "metadata": {
  "kernelspec": {
   "display_name": "Python 3",
   "language": "python",
   "name": "python3"
  },
  "language_info": {
   "codemirror_mode": {
    "name": "ipython",
    "version": 3
   },
   "file_extension": ".py",
   "mimetype": "text/x-python",
   "name": "python",
   "nbconvert_exporter": "python",
   "pygments_lexer": "ipython3",
   "version": "3.6.9"
  }
 },
 "nbformat": 4,
 "nbformat_minor": 5
}
